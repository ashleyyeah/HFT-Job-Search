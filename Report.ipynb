{
 "cells": [
  {
   "cell_type": "markdown",
   "metadata": {},
   "source": [
    "HFT Group 6: Statistics of Interest\n"
   ]
  },
  {
   "cell_type": "markdown",
   "metadata": {},
   "source": [
    "Establish Database Connection:"
   ]
  },
  {
   "cell_type": "code",
   "execution_count": null,
   "metadata": {},
   "outputs": [],
   "source": [
    "import os\n",
    "import pymysql\n",
    "import pandas as pd\n",
    "\n",
    "host = os.getenv('MYSQL_HOST')\n",
    "port = os.getenv('MYSQL_PORT')\n",
    "user = os.getenv('MYSQL_USER')\n",
    "password = os.getenv('MYSQL_PASSWORD')\n",
    "database = os.getenv('MYSQL_DATABASE')\n",
    "\n",
    "conn = pymysql.connect(\n",
    "    host=\"localhost\",\n",
    "    port=int(3306),\n",
    "    user=\"root\",\n",
    "    passwd='vagrant',\n",
    "    db=\"project\",\n",
    "    charset='utf8mb4')\n",
    "#Testing connection\n",
    "#df = pd.read_sql_query(\"SELECT * FROM companies\",conn)\n"
   ]
  },
  {
   "cell_type": "markdown",
   "metadata": {},
   "source": [
    "Scatter Plot: Salaries Over Time Across Different Prop Firms\n"
   ]
  },
  {
   "cell_type": "code",
   "execution_count": null,
   "metadata": {},
   "outputs": [],
   "source": [
    "import matplotlib.pyplot as plt\n",
    "#IDEA\n",
    "#Goal: all roles of a company plot on the scatter graph using one color, and all roles of a\n",
    "# different company plot on the same graph using a different color\n",
    "# how to change color: https://stackoverflow.com/questions/12236566/setting-different-color-for-each-series-in-scatter-plot-on-matplotlib"
   ]
  },
  {
   "cell_type": "markdown",
   "metadata": {},
   "source": [
    "Scatter Plot: Different Roles of One Company "
   ]
  },
  {
   "cell_type": "code",
   "execution_count": null,
   "metadata": {},
   "outputs": [],
   "source": [
    "#IDEA to be implemented\n",
    "# we have to retrieve a list of [jobrole, jobroleSalary] from one company using mySQL command\n",
    "# We then assign each job role a number incrementing from 1 - this will be the \"x axis\" for us\n",
    "# we would be able to spread out each dot on the scatter graph properly\n",
    "# Then use matplotlib to plot this \n",
    "#DONE !!\n",
    "#Y - salary\n",
    "#X - not an actual axis. Idea: We "
   ]
  }
 ],
 "metadata": {
  "interpreter": {
   "hash": "e38fddff0e5f5e7b01c0a13272b8052c582cf19e19d20b925f92b7f500291c92"
  },
  "kernelspec": {
   "display_name": "Python 3.9.13 64-bit (windows store)",
   "language": "python",
   "name": "python3"
  },
  "language_info": {
   "codemirror_mode": {
    "name": "ipython",
    "version": 3
   },
   "file_extension": ".py",
   "mimetype": "text/x-python",
   "name": "python",
   "nbconvert_exporter": "python",
   "pygments_lexer": "ipython3",
   "version": "3.9.13"
  },
  "orig_nbformat": 4
 },
 "nbformat": 4,
 "nbformat_minor": 2
}
